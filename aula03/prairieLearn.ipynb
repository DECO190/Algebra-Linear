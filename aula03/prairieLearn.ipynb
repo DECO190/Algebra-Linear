{
 "cells": [
  {
   "cell_type": "code",
   "execution_count": 2,
   "metadata": {},
   "outputs": [
    {
     "name": "stdout",
     "output_type": "stream",
     "text": [
      "pygame 2.5.2 (SDL 2.28.3, Python 3.11.6)\n",
      "Hello from the pygame community. https://www.pygame.org/contribute.html\n"
     ]
    }
   ],
   "source": [
    "import matplotlib.pyplot as plt\n",
    "import numpy as np\n",
    "import pygame\n",
    "from pygame.locals import *\n",
    "import math"
   ]
  },
  {
   "cell_type": "code",
   "execution_count": 3,
   "metadata": {},
   "outputs": [
    {
     "data": {
      "text/plain": [
       "5.00000000000047"
      ]
     },
     "execution_count": 3,
     "metadata": {},
     "output_type": "execute_result"
    }
   ],
   "source": [
    "\n",
    "def calc_vec_size(vec):\n",
    "    res = 0\n",
    "\n",
    "    for n in vec:\n",
    "        res += n ** 2\n",
    "    \n",
    "    return np.sqrt(res)\n",
    "\n",
    "\n",
    "calc_vec_size(np.array([4.472135955, 2.2360679775]))\n"
   ]
  },
  {
   "cell_type": "code",
   "execution_count": 7,
   "metadata": {},
   "outputs": [
    {
     "data": {
      "text/plain": [
       "1.3828231991111517"
      ]
     },
     "execution_count": 7,
     "metadata": {},
     "output_type": "execute_result"
    }
   ],
   "source": [
    "v = np.array([[0.41, 0.03, 0.18, 0.76, 0.46, 0.96], [0.35, 0.12, 0.91, 0.65, 0.17, 0.84], [0.64, 0.50, 0.07, 0.24, 0.79, 0.76], [0.85, 0.24, 0.63, 0.35, 0.56, 0.75], [0.87, 0.11, 0.28, 1.00, 0.66, 0.86], [0.01, 0.21, 0.96, 0.61, 0.54, 0.59], [0.97, 0.91, 0.06, 0.40, 0.98, 0.10], [0.42, 0.92, 0.92, 0.44, 0.38, 0.05]])\n",
    "\n",
    "index = []\n",
    "\n",
    "for vt in v:\n",
    "    tam = calc_vec_size(vt)\n",
    "    index.append(tam)\n",
    "\n",
    "index.index(min(index))"
   ]
  }
 ],
 "metadata": {
  "kernelspec": {
   "display_name": "Python 3",
   "language": "python",
   "name": "python3"
  },
  "language_info": {
   "codemirror_mode": {
    "name": "ipython",
    "version": 3
   },
   "file_extension": ".py",
   "mimetype": "text/x-python",
   "name": "python",
   "nbconvert_exporter": "python",
   "pygments_lexer": "ipython3",
   "version": "3.11.6"
  }
 },
 "nbformat": 4,
 "nbformat_minor": 2
}
